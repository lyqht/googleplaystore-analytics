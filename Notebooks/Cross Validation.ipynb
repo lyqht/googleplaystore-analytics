{
 "cells": [
  {
   "cell_type": "markdown",
   "metadata": {},
   "source": [
    "Prerequisite : NLP Model Notebook "
   ]
  },
  {
   "cell_type": "markdown",
   "metadata": {},
   "source": [
    "The following code is used to generate the Processed_Review column in the df. The csv of Processed review can be found in the data folder. "
   ]
  },
  {
   "cell_type": "markdown",
   "metadata": {},
   "source": [
    "from nltk.tokenize.treebank import TreebankWordDetokenizer\n",
    "df['Processed_Review'] = df['Tokens'].apply(lambda x: (TreebankWordDetokenizer().detokenize(x)))"
   ]
  },
  {
   "cell_type": "code",
   "execution_count": 46,
   "metadata": {},
   "outputs": [],
   "source": [
    "import pandas as pd"
   ]
  },
  {
   "cell_type": "code",
   "execution_count": 31,
   "metadata": {},
   "outputs": [],
   "source": [
    "df = pd.read_csv('../data/processed_review.csv',encoding=\"ISO-8859-1\")"
   ]
  },
  {
   "cell_type": "code",
   "execution_count": 32,
   "metadata": {},
   "outputs": [
    {
     "data": {
      "text/html": [
       "<div>\n",
       "<style scoped>\n",
       "    .dataframe tbody tr th:only-of-type {\n",
       "        vertical-align: middle;\n",
       "    }\n",
       "\n",
       "    .dataframe tbody tr th {\n",
       "        vertical-align: top;\n",
       "    }\n",
       "\n",
       "    .dataframe thead th {\n",
       "        text-align: right;\n",
       "    }\n",
       "</style>\n",
       "<table border=\"1\" class=\"dataframe\">\n",
       "  <thead>\n",
       "    <tr style=\"text-align: right;\">\n",
       "      <th></th>\n",
       "      <th>Unnamed: 0</th>\n",
       "      <th>Review</th>\n",
       "      <th>Tokens</th>\n",
       "      <th>Sentiment</th>\n",
       "      <th>Neutral Proportion</th>\n",
       "      <th>Positive Proportion</th>\n",
       "      <th>Negative Proportion</th>\n",
       "      <th>Compound</th>\n",
       "      <th>testimonial</th>\n",
       "      <th>subjectivty</th>\n",
       "      <th>polarity_blob</th>\n",
       "      <th>Processed_Review</th>\n",
       "    </tr>\n",
       "  </thead>\n",
       "  <tbody>\n",
       "    <tr>\n",
       "      <th>0</th>\n",
       "      <td>0</td>\n",
       "      <td>I like eat delicious food. That's I'm cooking ...</td>\n",
       "      <td>['i', 'like', 'eat', 'delicious', 'food', 'tha...</td>\n",
       "      <td>Positive</td>\n",
       "      <td>0.466</td>\n",
       "      <td>0.534</td>\n",
       "      <td>0.0</td>\n",
       "      <td>0.9531</td>\n",
       "      <td>I like eat delicious food. That's I'm cooking ...</td>\n",
       "      <td>0.533333</td>\n",
       "      <td>1.00</td>\n",
       "      <td>i like eat delicious food that is cooking food...</td>\n",
       "    </tr>\n",
       "    <tr>\n",
       "      <th>1</th>\n",
       "      <td>1</td>\n",
       "      <td>This help eating healthy exercise regular basis</td>\n",
       "      <td>['this', 'help', 'eating', 'healthy', 'exercis...</td>\n",
       "      <td>Positive</td>\n",
       "      <td>0.481</td>\n",
       "      <td>0.519</td>\n",
       "      <td>0.0</td>\n",
       "      <td>0.6597</td>\n",
       "      <td>This help eating healthy exercise regular basis</td>\n",
       "      <td>0.288462</td>\n",
       "      <td>0.25</td>\n",
       "      <td>this help eating healthy exercise regular basis</td>\n",
       "    </tr>\n",
       "    <tr>\n",
       "      <th>2</th>\n",
       "      <td>3</td>\n",
       "      <td>Works great especially going grocery store</td>\n",
       "      <td>['work', 'great', 'especially', 'going', 'groc...</td>\n",
       "      <td>Positive</td>\n",
       "      <td>0.549</td>\n",
       "      <td>0.451</td>\n",
       "      <td>0.0</td>\n",
       "      <td>0.6249</td>\n",
       "      <td>Works great especially going grocery store</td>\n",
       "      <td>0.875000</td>\n",
       "      <td>0.40</td>\n",
       "      <td>work great especially going grocery store</td>\n",
       "    </tr>\n",
       "    <tr>\n",
       "      <th>3</th>\n",
       "      <td>4</td>\n",
       "      <td>Best idea us</td>\n",
       "      <td>['best', 'idea', 'u']</td>\n",
       "      <td>Positive</td>\n",
       "      <td>0.323</td>\n",
       "      <td>0.677</td>\n",
       "      <td>0.0</td>\n",
       "      <td>0.6369</td>\n",
       "      <td>Best idea us</td>\n",
       "      <td>0.300000</td>\n",
       "      <td>1.00</td>\n",
       "      <td>best idea u</td>\n",
       "    </tr>\n",
       "    <tr>\n",
       "      <th>4</th>\n",
       "      <td>5</td>\n",
       "      <td>Best way</td>\n",
       "      <td>['best', 'way']</td>\n",
       "      <td>Positive</td>\n",
       "      <td>0.192</td>\n",
       "      <td>0.808</td>\n",
       "      <td>0.0</td>\n",
       "      <td>0.6369</td>\n",
       "      <td>Best way</td>\n",
       "      <td>0.300000</td>\n",
       "      <td>1.00</td>\n",
       "      <td>best way</td>\n",
       "    </tr>\n",
       "  </tbody>\n",
       "</table>\n",
       "</div>"
      ],
      "text/plain": [
       "   Unnamed: 0                                             Review  \\\n",
       "0           0  I like eat delicious food. That's I'm cooking ...   \n",
       "1           1    This help eating healthy exercise regular basis   \n",
       "2           3         Works great especially going grocery store   \n",
       "3           4                                       Best idea us   \n",
       "4           5                                           Best way   \n",
       "\n",
       "                                              Tokens Sentiment  \\\n",
       "0  ['i', 'like', 'eat', 'delicious', 'food', 'tha...  Positive   \n",
       "1  ['this', 'help', 'eating', 'healthy', 'exercis...  Positive   \n",
       "2  ['work', 'great', 'especially', 'going', 'groc...  Positive   \n",
       "3                              ['best', 'idea', 'u']  Positive   \n",
       "4                                    ['best', 'way']  Positive   \n",
       "\n",
       "   Neutral Proportion  Positive Proportion  Negative Proportion  Compound  \\\n",
       "0               0.466                0.534                  0.0    0.9531   \n",
       "1               0.481                0.519                  0.0    0.6597   \n",
       "2               0.549                0.451                  0.0    0.6249   \n",
       "3               0.323                0.677                  0.0    0.6369   \n",
       "4               0.192                0.808                  0.0    0.6369   \n",
       "\n",
       "                                         testimonial  subjectivty  \\\n",
       "0  I like eat delicious food. That's I'm cooking ...     0.533333   \n",
       "1    This help eating healthy exercise regular basis     0.288462   \n",
       "2         Works great especially going grocery store     0.875000   \n",
       "3                                       Best idea us     0.300000   \n",
       "4                                           Best way     0.300000   \n",
       "\n",
       "   polarity_blob                                   Processed_Review  \n",
       "0           1.00  i like eat delicious food that is cooking food...  \n",
       "1           0.25    this help eating healthy exercise regular basis  \n",
       "2           0.40          work great especially going grocery store  \n",
       "3           1.00                                        best idea u  \n",
       "4           1.00                                           best way  "
      ]
     },
     "execution_count": 32,
     "metadata": {},
     "output_type": "execute_result"
    }
   ],
   "source": [
    "df.head()"
   ]
  },
  {
   "cell_type": "code",
   "execution_count": 39,
   "metadata": {},
   "outputs": [
    {
     "data": {
      "text/plain": [
       "0    i like eat delicious food that is cooking food...\n",
       "1      this help eating healthy exercise regular basis\n",
       "2            work great especially going grocery store\n",
       "3                                          best idea u\n",
       "4                                             best way\n",
       "Name: Processed_Review, dtype: object"
      ]
     },
     "execution_count": 39,
     "metadata": {},
     "output_type": "execute_result"
    }
   ],
   "source": [
    "test_size = int(0.2*len(df['Review']))\n",
    "train = df[:test_size]\n",
    "test = df[test_size:]\n",
    "X_train = train['Processed_Review']\n",
    "X_test = test['Processed_Review']\n",
    "y_train = train['Sentiment']\n",
    "X_train.head()"
   ]
  },
  {
   "cell_type": "code",
   "execution_count": 40,
   "metadata": {},
   "outputs": [
    {
     "data": {
      "text/plain": [
       "0    i like eat delicious food that is cooking food...\n",
       "1      this help eating healthy exercise regular basis\n",
       "2            work great especially going grocery store\n",
       "3                                          best idea u\n",
       "4                                             best way\n",
       "Name: Processed_Review, dtype: object"
      ]
     },
     "execution_count": 40,
     "metadata": {},
     "output_type": "execute_result"
    }
   ],
   "source": [
    "X_train.head()"
   ]
  },
  {
   "cell_type": "code",
   "execution_count": 41,
   "metadata": {},
   "outputs": [
    {
     "name": "stdout",
     "output_type": "stream",
     "text": [
      "(7485, 8586) (29942, 8586)\n"
     ]
    }
   ],
   "source": [
    "from sklearn.feature_extraction.text import TfidfTransformer\n",
    "from sklearn.feature_extraction.text import TfidfVectorizer\n",
    "vectorizer = TfidfVectorizer()\n",
    "train_vectors = vectorizer.fit_transform(X_train.values.astype('U'))\n",
    "test_vectors = vectorizer.transform(X_test.values.astype('U'))\n",
    "print(train_vectors.shape, test_vectors.shape)"
   ]
  },
  {
   "cell_type": "code",
   "execution_count": 36,
   "metadata": {},
   "outputs": [
    {
     "name": "stdout",
     "output_type": "stream",
     "text": [
      "[0.68224299 0.74899866 0.6435247  0.69425901 0.66088117 0.65374332\n",
      " 0.69786096 0.63903743 0.67780749 0.62700535]\n"
     ]
    }
   ],
   "source": [
    "from sklearn.naive_bayes import MultinomialNB\n",
    "from sklearn.model_selection import KFold, cross_val_score\n",
    "from sklearn.ensemble import RandomForestClassifier\n",
    "classifier = MultinomialNB()\n",
    "k_fold = KFold(n_splits=10, shuffle=False , random_state=0)\n",
    "\n",
    "print (cross_val_score(classifier, train_vectors, y_train, cv=k_fold, n_jobs=1))"
   ]
  },
  {
   "cell_type": "code",
   "execution_count": 37,
   "metadata": {},
   "outputs": [
    {
     "name": "stdout",
     "output_type": "stream",
     "text": [
      "[0.77169559 0.79839786 0.77436582 0.75433912 0.77169559 0.74064171\n",
      " 0.71256684 0.76069519 0.79278075 0.80347594]\n"
     ]
    }
   ],
   "source": [
    "from sklearn.model_selection import KFold, cross_val_score\n",
    "from sklearn.ensemble import RandomForestClassifier\n",
    "classifier = RandomForestClassifier(n_estimators=300, random_state=0)\n",
    "k_fold = KFold(n_splits=10, shuffle=False , random_state=0)\n",
    "\n",
    "print (cross_val_score(classifier, train_vectors, y_train, cv=k_fold, n_jobs=1))"
   ]
  },
  {
   "cell_type": "code",
   "execution_count": 42,
   "metadata": {},
   "outputs": [
    {
     "name": "stdout",
     "output_type": "stream",
     "text": [
      "(7485, 8586) (29942, 8586)\n"
     ]
    }
   ],
   "source": [
    "from sklearn.feature_extraction.text import CountVectorizer\n",
    "vectorizer = CountVectorizer()\n",
    "train_vectors = vectorizer.fit_transform(X_train.values.astype('U'))\n",
    "test_vectors = vectorizer.transform(X_test.values.astype('U'))\n",
    "print(train_vectors.shape, test_vectors.shape)"
   ]
  },
  {
   "cell_type": "code",
   "execution_count": 43,
   "metadata": {},
   "outputs": [
    {
     "name": "stdout",
     "output_type": "stream",
     "text": [
      "[0.63818425 0.72630174 0.62483311 0.65287049 0.6435247  0.67112299\n",
      " 0.67780749 0.62032086 0.64037433 0.57887701]\n"
     ]
    }
   ],
   "source": [
    "from sklearn.naive_bayes import MultinomialNB\n",
    "from sklearn.model_selection import KFold, cross_val_score\n",
    "from sklearn.ensemble import RandomForestClassifier\n",
    "classifier = MultinomialNB()\n",
    "k_fold = KFold(n_splits=10, shuffle=False , random_state=0)\n",
    "\n",
    "print (cross_val_score(classifier, train_vectors, y_train, cv=k_fold, n_jobs=1))"
   ]
  },
  {
   "cell_type": "markdown",
   "metadata": {},
   "source": [
    "Self-construct of bag of word. ### Run time error for the make features part "
   ]
  },
  {
   "cell_type": "code",
   "execution_count": null,
   "metadata": {},
   "outputs": [],
   "source": [
    "def make_features(row):\n",
    "    return ({i:int(i in row[\"Review\"]) for i in vocabulary}, row[\"Sentiment\"])\n",
    "\n",
    "features = x_train.progress_apply(make_features, axis=1)"
   ]
  },
  {
   "cell_type": "code",
   "execution_count": null,
   "metadata": {},
   "outputs": [],
   "source": [
    "df_new = pd.DataFrame(columns = ['x','y'])\n",
    "df_new['x'] = features.apply(lambda x : x[0])\n",
    "df_new['y'] = features.apply(lambda x : x[1])"
   ]
  },
  {
   "cell_type": "code",
   "execution_count": null,
   "metadata": {},
   "outputs": [],
   "source": [
    "df_new['x_list'] = df_new['x'].apply(lambda x : x.values())"
   ]
  },
  {
   "cell_type": "code",
   "execution_count": null,
   "metadata": {},
   "outputs": [],
   "source": [
    "classifier = MultinomialNB()\n",
    "k_fold = KFold(n_splits=10, shuffle=False , random_state=0)\n",
    "print (cross_val_score(classifier, df_new['x_list'], df_new['y'], cv=k_fold, n_jobs=1))"
   ]
  }
 ],
 "metadata": {
  "kernelspec": {
   "display_name": "Python 3",
   "language": "python",
   "name": "python3"
  },
  "language_info": {
   "codemirror_mode": {
    "name": "ipython",
    "version": 3
   },
   "file_extension": ".py",
   "mimetype": "text/x-python",
   "name": "python",
   "nbconvert_exporter": "python",
   "pygments_lexer": "ipython3",
   "version": "3.7.3"
  }
 },
 "nbformat": 4,
 "nbformat_minor": 2
}
