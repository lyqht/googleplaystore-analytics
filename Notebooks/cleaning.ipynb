{
  "nbformat": 4,
  "nbformat_minor": 0,
  "metadata": {
    "colab": {
      "name": "googleplaystore_cleaning_CDS project.ipynb",
      "provenance": [],
      "collapsed_sections": []
    },
    "kernelspec": {
      "name": "python3",
      "display_name": "Python 3"
    }
  },
  "cells": [
    {
      "cell_type": "code",
      "execution_count": 0,
      "metadata": {
        "colab": {},
        "colab_type": "code",
        "id": "bIKeTS-H9szP"
      },
      "outputs": [],
      "source": [
        "# cleaned up data of googleplaystore.csv\n",
        "# Done by Marooth Nath 1002923\n",
        "\n",
        "import pandas as pd\n",
        "import numpy as np"
      ]
    },
    {
      "cell_type": "markdown",
      "metadata": {
        "colab_type": "text",
        "id": "OQ_y0N63-YAx"
      },
      "source": [
        "Read raw data file"
      ]
    },
    {
      "cell_type": "code",
      "execution_count": 2,
      "metadata": {
        "colab": {
          "base_uri": "https://localhost:8080/",
          "height": 296
        },
        "colab_type": "code",
        "id": "oi5mvqe4-hbJ",
        "outputId": "690bc012-3446-4386-d08e-5aa5482eacc4"
      },
      "outputs": [
        {
          "data": {
            "text/html": [
              "<div>\n",
              "<style scoped>\n",
              "    .dataframe tbody tr th:only-of-type {\n",
              "        vertical-align: middle;\n",
              "    }\n",
              "\n",
              "    .dataframe tbody tr th {\n",
              "        vertical-align: top;\n",
              "    }\n",
              "\n",
              "    .dataframe thead th {\n",
              "        text-align: right;\n",
              "    }\n",
              "</style>\n",
              "<table border=\"1\" class=\"dataframe\">\n",
              "  <thead>\n",
              "    <tr style=\"text-align: right;\">\n",
              "      <th></th>\n",
              "      <th>App</th>\n",
              "      <th>Category</th>\n",
              "      <th>Rating</th>\n",
              "      <th>Reviews</th>\n",
              "      <th>Size</th>\n",
              "      <th>Installs</th>\n",
              "      <th>Type</th>\n",
              "      <th>Price</th>\n",
              "      <th>Content Rating</th>\n",
              "      <th>Genres</th>\n",
              "      <th>Last Updated</th>\n",
              "      <th>Current Ver</th>\n",
              "      <th>Android Ver</th>\n",
              "    </tr>\n",
              "  </thead>\n",
              "  <tbody>\n",
              "    <tr>\n",
              "      <th>0</th>\n",
              "      <td>Photo Editor &amp; Candy Camera &amp; Grid &amp; ScrapBook</td>\n",
              "      <td>ART_AND_DESIGN</td>\n",
              "      <td>4.1</td>\n",
              "      <td>159</td>\n",
              "      <td>19M</td>\n",
              "      <td>10,000+</td>\n",
              "      <td>Free</td>\n",
              "      <td>0</td>\n",
              "      <td>Everyone</td>\n",
              "      <td>Art &amp; Design</td>\n",
              "      <td>January 7, 2018</td>\n",
              "      <td>1.0.0</td>\n",
              "      <td>4.0.3 and up</td>\n",
              "    </tr>\n",
              "    <tr>\n",
              "      <th>1</th>\n",
              "      <td>Coloring book moana</td>\n",
              "      <td>ART_AND_DESIGN</td>\n",
              "      <td>3.9</td>\n",
              "      <td>967</td>\n",
              "      <td>14M</td>\n",
              "      <td>500,000+</td>\n",
              "      <td>Free</td>\n",
              "      <td>0</td>\n",
              "      <td>Everyone</td>\n",
              "      <td>Art &amp; Design;Pretend Play</td>\n",
              "      <td>January 15, 2018</td>\n",
              "      <td>2.0.0</td>\n",
              "      <td>4.0.3 and up</td>\n",
              "    </tr>\n",
              "    <tr>\n",
              "      <th>2</th>\n",
              "      <td>U Launcher Lite â FREE Live Cool Themes, Hid...</td>\n",
              "      <td>ART_AND_DESIGN</td>\n",
              "      <td>4.7</td>\n",
              "      <td>87510</td>\n",
              "      <td>8.7M</td>\n",
              "      <td>5,000,000+</td>\n",
              "      <td>Free</td>\n",
              "      <td>0</td>\n",
              "      <td>Everyone</td>\n",
              "      <td>Art &amp; Design</td>\n",
              "      <td>August 1, 2018</td>\n",
              "      <td>1.2.4</td>\n",
              "      <td>4.0.3 and up</td>\n",
              "    </tr>\n",
              "    <tr>\n",
              "      <th>3</th>\n",
              "      <td>Sketch - Draw &amp; Paint</td>\n",
              "      <td>ART_AND_DESIGN</td>\n",
              "      <td>4.5</td>\n",
              "      <td>215644</td>\n",
              "      <td>25M</td>\n",
              "      <td>50,000,000+</td>\n",
              "      <td>Free</td>\n",
              "      <td>0</td>\n",
              "      <td>Teen</td>\n",
              "      <td>Art &amp; Design</td>\n",
              "      <td>June 8, 2018</td>\n",
              "      <td>Varies with device</td>\n",
              "      <td>4.2 and up</td>\n",
              "    </tr>\n",
              "    <tr>\n",
              "      <th>4</th>\n",
              "      <td>Pixel Draw - Number Art Coloring Book</td>\n",
              "      <td>ART_AND_DESIGN</td>\n",
              "      <td>4.3</td>\n",
              "      <td>967</td>\n",
              "      <td>2.8M</td>\n",
              "      <td>100,000+</td>\n",
              "      <td>Free</td>\n",
              "      <td>0</td>\n",
              "      <td>Everyone</td>\n",
              "      <td>Art &amp; Design;Creativity</td>\n",
              "      <td>June 20, 2018</td>\n",
              "      <td>1.1</td>\n",
              "      <td>4.4 and up</td>\n",
              "    </tr>\n",
              "  </tbody>\n",
              "</table>\n",
              "</div>"
            ],
            "text/plain": [
              "                                                 App  ...   Android Ver\n",
              "0     Photo Editor & Candy Camera & Grid & ScrapBook  ...  4.0.3 and up\n",
              "1                                Coloring book moana  ...  4.0.3 and up\n",
              "2  U Launcher Lite â FREE Live Cool Themes, Hid...  ...  4.0.3 and up\n",
              "3                              Sketch - Draw & Paint  ...    4.2 and up\n",
              "4              Pixel Draw - Number Art Coloring Book  ...    4.4 and up\n",
              "\n",
              "[5 rows x 13 columns]"
            ]
          },
          "execution_count": 2,
          "metadata": {
            "tags": []
          },
          "output_type": "execute_result"
        }
      ],
      "source": [
        "fileName = \"../data/googleplaystore.csv\"\n",
        "csvData = pd.read_csv(fileName, encoding=\"ISO-8859-1\")\n",
        "csvData.head()"
      ]
    },
    {
      "cell_type": "markdown",
      "metadata": {
        "colab_type": "text",
        "id": "CzbgFo-u_5uL"
      },
      "source": [
        "Remove unnecessary columns and rows"
      ]
    },
    {
      "cell_type": "code",
      "execution_count": 3,
      "metadata": {
        "colab": {
          "base_uri": "https://localhost:8080/",
          "height": 171
        },
        "colab_type": "code",
        "id": "eT6LFeh5_-dS",
        "outputId": "71854a8a-f2c2-42b6-973d-07d86f525f42"
      },
      "outputs": [
        {
          "name": "stdout",
          "output_type": "stream",
          "text": [
            "                                           App Category  ...  Current Ver Android Ver\n",
            "10472  Life Made WI-Fi Touchscreen Photo Frame      1.9  ...   4.0 and up         NaN\n",
            "\n",
            "[1 rows x 13 columns]\n",
            "(10841, 13)\n",
            "(10840, 10)\n"
          ]
        },
        {
          "name": "stderr",
          "output_type": "stream",
          "text": [
            "/usr/local/lib/python3.6/dist-packages/pandas/core/ops/__init__.py:1115: FutureWarning: elementwise comparison failed; returning scalar instead, but in the future will perform elementwise comparison\n",
            "  result = method(y)\n"
          ]
        }
      ],
      "source": [
        "print(csvData.loc[[10472]])\n",
        "print(np.shape(csvData))\n",
        "csvData = csvData.drop(index = 10472, axis=0)  # incomplete data\n",
        "find = csvData['Rating'].where(csvData['Rating'] == 'Life Made WI-Fi Touchscreen Photo Frame')\n",
        "#print(find)\n",
        "csvData = csvData.drop(columns=['Last Updated', 'Current Ver', 'Android Ver'], axis=1) # not necessary for the analysis as these columns only indicate how often developer update their app\n",
        "print(np.shape(csvData))"
      ]
    },
    {
      "cell_type": "markdown",
      "metadata": {
        "colab_type": "text",
        "id": "o2jSoXdBFKNN"
      },
      "source": [
        "Clean 'Rating' by ensuring that 'NaN' is actually empty not just text"
      ]
    },
    {
      "cell_type": "code",
      "execution_count": 4,
      "metadata": {
        "colab": {
          "base_uri": "https://localhost:8080/",
          "height": 34
        },
        "colab_type": "code",
        "id": "OGpbPcbMFdKp",
        "outputId": "e5d6a557-6cdb-42c2-e22e-f7ea34b6fba2"
      },
      "outputs": [
        {
          "name": "stdout",
          "output_type": "stream",
          "text": [
            "10840\n"
          ]
        }
      ],
      "source": [
        "nullCheck = pd.notnull(csvData['Rating'])\n",
        "print(len(nullCheck))\n",
        "c = 0\n",
        "#print(type(nullCheck[10472]))\n",
        "for i in range(len(nullCheck)+1):\n",
        "  if i != 10472:\n",
        "    if nullCheck[i] is False:\n",
        "      csvData['Rating'] = csvData.replace(csvData[['Rating']][i], np.nan)\n",
        "      c += 1\n",
        "#print(csvData['Rating'])  # check output"
      ]
    },
    {
      "cell_type": "markdown",
      "metadata": {
        "colab_type": "text",
        "id": "rbunA6lUFxU_"
      },
      "source": [
        "[cleaning 'Installs' for unnecessary element in string and convert values to int"
      ]
    },
    {
      "cell_type": "code",
      "execution_count": 0,
      "metadata": {
        "colab": {},
        "colab_type": "code",
        "id": "uYkas9sIF0qd"
      },
      "outputs": [],
      "source": [
        "csvData['Installs'] =csvData.Installs.apply(lambda x: x.strip('+'))  # Remove all +\n",
        "csvData['Installs'] =csvData.Installs.apply(lambda x: x.replace(',', ''))  # Remove all , and close the space\n",
        "csvData['Installs'] = pd.to_numeric(csvData.Installs)  # change to int\n",
        "#print(csvData['Installs'])"
      ]
    },
    {
      "cell_type": "markdown",
      "metadata": {
        "colab_type": "text",
        "id": "6Slh3MjBR-It"
      },
      "source": [
        "cleaning 'Size' for unnecessary element in string and convert values to int"
      ]
    },
    {
      "cell_type": "code",
      "execution_count": 0,
      "metadata": {
        "colab": {},
        "colab_type": "code",
        "id": "Rq64qLV6WDrO"
      },
      "outputs": [],
      "source": [
        "csvData['Size'] =csvData.Size.apply(lambda x: x.replace('M','e+6'))  # Change M to actual value\n",
        "csvData['Size'] =csvData.Size.apply(lambda x: x.replace('k','e+3'))  # Change k to actual value\n",
        "csvData['Size'] =csvData.Size.apply(lambda x: x.replace('Varies with device',\"\"))# Replacing \"varies with device\" with np.nan\n",
        "csvData['Size'] = pd.to_numeric(csvData.Size)\n",
        "nullCheck = pd.notnull(csvData['Size'])\n",
        "for i in range(len(nullCheck)+1):\n",
        "  if i != 10472:\n",
        "    if nullCheck[i] is False:\n",
        "      print(csvData.Size[i])\n",
        "      csvData['Size'] = csvData.replace(csvData[['Size']][i], np.nan)\n",
        "      c += 1\n",
        "#print(csvData['Size'])  # check output"
      ]
    },
    {
      "cell_type": "markdown",
      "metadata": {
        "colab_type": "text",
        "id": "GweCFFIFY78m"
      },
      "source": [
        "cleaning 'Content Rating' for age value as it doesn't heavily affect the reviews"
      ]
    },
    {
      "cell_type": "code",
      "execution_count": 0,
      "metadata": {
        "colab": {},
        "colab_type": "code",
        "id": "YpXhpBPkZKdG"
      },
      "outputs": [],
      "source": [
        "csvData['Content Rating'] =csvData['Content Rating'].str.replace('\\d+','')  # Remove integers\n",
        "csvData['Content Rating'] =csvData['Content Rating'].str.replace('+','')  # Remove all +\n",
        "#print(csvData['Content Rating'])"
      ]
    },
    {
      "cell_type": "markdown",
      "metadata": {
        "colab_type": "text",
        "id": "jETEzLQdImmc"
      },
      "source": [
        "Export to new file"
      ]
    },
    {
      "cell_type": "code",
      "execution_count": 8,
      "metadata": {
        "colab": {
          "base_uri": "https://localhost:8080/",
          "height": 34
        },
        "colab_type": "code",
        "id": "kiM0zPHBIoWt",
        "outputId": "f9bfbc01-e2e1-406e-ed7d-215d616f6715"
      },
      "outputs": [
        {
          "name": "stdout",
          "output_type": "stream",
          "text": [
            "Done!!\n"
          ]
        }
      ],
      "source": [
        "exportCSV = csvData.to_csv(\"../data/googleplaystore_cleaned.csv\", index=None, header=True)\n",
        "print(\"Done!!\")"
      ]
    },
    {
      "cell_type": "markdown",
      "metadata": {
        "colab_type": "text",
        "id": "zDCELV-Aqjqv"
      },
      "source": [
        "Cleaning googleplaystore_user_reviews.csv"
      ]
    },
    {
      "cell_type": "code",
      "execution_count": 9,
      "metadata": {
        "colab": {
          "base_uri": "https://localhost:8080/",
          "height": 195
        },
        "colab_type": "code",
        "id": "TDNo6KHAqndq",
        "outputId": "dac92335-105c-4a72-f677-15e81d6cc707"
      },
      "outputs": [
        {
          "data": {
            "text/html": [
              "<div>\n",
              "<style scoped>\n",
              "    .dataframe tbody tr th:only-of-type {\n",
              "        vertical-align: middle;\n",
              "    }\n",
              "\n",
              "    .dataframe tbody tr th {\n",
              "        vertical-align: top;\n",
              "    }\n",
              "\n",
              "    .dataframe thead th {\n",
              "        text-align: right;\n",
              "    }\n",
              "</style>\n",
              "<table border=\"1\" class=\"dataframe\">\n",
              "  <thead>\n",
              "    <tr style=\"text-align: right;\">\n",
              "      <th></th>\n",
              "      <th>App</th>\n",
              "      <th>Translated_Review</th>\n",
              "      <th>Sentiment</th>\n",
              "      <th>Sentiment_Polarity</th>\n",
              "      <th>Sentiment_Subjectivity</th>\n",
              "    </tr>\n",
              "  </thead>\n",
              "  <tbody>\n",
              "    <tr>\n",
              "      <th>0</th>\n",
              "      <td>10 Best Foods for You</td>\n",
              "      <td>I like eat delicious food. That's I'm cooking ...</td>\n",
              "      <td>Positive</td>\n",
              "      <td>1.00</td>\n",
              "      <td>0.533333</td>\n",
              "    </tr>\n",
              "    <tr>\n",
              "      <th>1</th>\n",
              "      <td>10 Best Foods for You</td>\n",
              "      <td>This help eating healthy exercise regular basis</td>\n",
              "      <td>Positive</td>\n",
              "      <td>0.25</td>\n",
              "      <td>0.288462</td>\n",
              "    </tr>\n",
              "    <tr>\n",
              "      <th>2</th>\n",
              "      <td>10 Best Foods for You</td>\n",
              "      <td>NaN</td>\n",
              "      <td>NaN</td>\n",
              "      <td>NaN</td>\n",
              "      <td>NaN</td>\n",
              "    </tr>\n",
              "    <tr>\n",
              "      <th>3</th>\n",
              "      <td>10 Best Foods for You</td>\n",
              "      <td>Works great especially going grocery store</td>\n",
              "      <td>Positive</td>\n",
              "      <td>0.40</td>\n",
              "      <td>0.875000</td>\n",
              "    </tr>\n",
              "    <tr>\n",
              "      <th>4</th>\n",
              "      <td>10 Best Foods for You</td>\n",
              "      <td>Best idea us</td>\n",
              "      <td>Positive</td>\n",
              "      <td>1.00</td>\n",
              "      <td>0.300000</td>\n",
              "    </tr>\n",
              "  </tbody>\n",
              "</table>\n",
              "</div>"
            ],
            "text/plain": [
              "                     App  ... Sentiment_Subjectivity\n",
              "0  10 Best Foods for You  ...               0.533333\n",
              "1  10 Best Foods for You  ...               0.288462\n",
              "2  10 Best Foods for You  ...                    NaN\n",
              "3  10 Best Foods for You  ...               0.875000\n",
              "4  10 Best Foods for You  ...               0.300000\n",
              "\n",
              "[5 rows x 5 columns]"
            ]
          },
          "execution_count": 9,
          "metadata": {
            "tags": []
          },
          "output_type": "execute_result"
        }
      ],
      "source": [
        "csvData = pd.read_csv(\"../data/googleplaystore_user_reviews.csv\",encoding=\"ISO-8859-1\")\n",
        "csvData.head()"
      ]
    },
    {
      "cell_type": "code",
      "execution_count": 24,
      "metadata": {
        "colab": {
          "base_uri": "https://localhost:8080/",
          "height": 34
        },
        "colab_type": "code",
        "id": "pKfPIlV9QP9B",
        "outputId": "1f59a193-93d7-4d02-abf5-9c713bc3b934"
      },
      "outputs": [
        {
          "name": "stdout",
          "output_type": "stream",
          "text": [
            "(64295, 5)\n"
          ]
        }
      ],
      "source": [
        "csvData.Translated_Review = csvData.Translated_Review.str.replace(\"nan\",\"\")\n",
        "csvData.Sentiment = csvData.Sentiment.str.replace(\"nan\",\"\")\n",
        "for i in range(len(csvData)):\n",
        "  if csvData.Translated_Review[i] == np.nan:\n",
        "      csvData = csvData.drop(i)\n",
        "  elif csvData.Sentiment[i] == np.nan:\n",
        "      csvData = csvData.drop(i)\n",
        "  elif csvData.Sentiment_Polarity[i] == np.nan:\n",
        "      csvData = csvData.drop(i)\n",
        "  elif csvData.Sentiment_Subjectivity[i] == np.nan:\n",
        "      csvData = csvData.drop(i)\n",
        "print(np.shape(csvData))"
      ]
    }
  ]
}